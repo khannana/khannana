{
  "nbformat": 4,
  "nbformat_minor": 0,
  "metadata": {
    "colab": {
      "name": "list_comprehensions:",
      "provenance": [],
      "authorship_tag": "ABX9TyMTXX4oZdFodiOcxYTfEshZ",
      "include_colab_link": true
    },
    "kernelspec": {
      "name": "python3",
      "display_name": "Python 3"
    },
    "language_info": {
      "name": "python"
    }
  },
  "cells": [
    {
      "cell_type": "markdown",
      "metadata": {
        "id": "view-in-github",
        "colab_type": "text"
      },
      "source": [
        "<a href=\"https://colab.research.google.com/github/khannana/khannana/blob/main/list_comprehensions_.ipynb\" target=\"_parent\"><img src=\"https://colab.research.google.com/assets/colab-badge.svg\" alt=\"Open In Colab\"/></a>"
      ]
    },
    {
      "cell_type": "code",
      "execution_count": 3,
      "metadata": {
        "colab": {
          "base_uri": "https://localhost:8080/"
        },
        "id": "2H794KQqQxJO",
        "outputId": "da0b4f06-5091-4662-d69d-1a099214fc88"
      },
      "outputs": [
        {
          "output_type": "stream",
          "name": "stdout",
          "text": [
            "I\n",
            " \n",
            "m\n",
            " \n",
            "v\n",
            "r\n",
            "y\n",
            " \n",
            "v\n",
            "l\n",
            "n\n",
            "r\n",
            "b\n",
            "l\n",
            "[None, None, None, None, None, None, None, None, None, None, None, None, None, None]\n"
          ]
        }
      ],
      "source": [
        "my_string = \"I am very vulnerable\"\n",
        "\n",
        "k = [print(i) for i in my_string if i not in \"aeiou\"]\n"
      ]
    },
    {
      "cell_type": "code",
      "source": [
        "my_string = \"Hello world\"\n",
        "\n",
        "k = [(i.upper(), len(i)) for i in my_string]\n",
        "print(k)"
      ],
      "metadata": {
        "colab": {
          "base_uri": "https://localhost:8080/"
        },
        "id": "98wcS3lHQ_xD",
        "outputId": "7d6bc580-7545-4c84-f491-d3314b471bae"
      },
      "execution_count": 5,
      "outputs": [
        {
          "output_type": "stream",
          "name": "stdout",
          "text": [
            "[('H', 1), ('E', 1), ('L', 1), ('L', 1), ('O', 1), (' ', 1), ('W', 1), ('O', 1), ('R', 1), ('L', 1), ('D', 1)]\n"
          ]
        }
      ]
    },
    {
      "cell_type": "code",
      "source": [
        "print([i.lower() for i in \"HELLO\"])"
      ],
      "metadata": {
        "colab": {
          "base_uri": "https://localhost:8080/"
        },
        "id": "dfDz7SrBSBUu",
        "outputId": "85a73259-9e85-44dd-897b-9987fd16d5ad"
      },
      "execution_count": 6,
      "outputs": [
        {
          "output_type": "stream",
          "name": "stdout",
          "text": [
            "['h', 'e', 'l', 'l', 'o']\n"
          ]
        }
      ]
    },
    {
      "cell_type": "code",
      "source": [
        "print([i+j for i in \"abc\" for j in \"def\"])"
      ],
      "metadata": {
        "colab": {
          "base_uri": "https://localhost:8080/"
        },
        "id": "t36jTjj3S7Kz",
        "outputId": "8178178b-d492-40c8-9bb6-59ed66a48c6f"
      },
      "execution_count": 7,
      "outputs": [
        {
          "output_type": "stream",
          "name": "stdout",
          "text": [
            "['ad', 'ae', 'af', 'bd', 'be', 'bf', 'cd', 'ce', 'cf']\n"
          ]
        }
      ]
    },
    {
      "cell_type": "code",
      "source": [
        "print([[i+j for i in \"abc\"] for j in \"def\"])"
      ],
      "metadata": {
        "colab": {
          "base_uri": "https://localhost:8080/"
        },
        "id": "tzY-fZgaTJS4",
        "outputId": "d77c55c0-0c4c-4dff-abb1-c26fa6f95ddd"
      },
      "execution_count": 8,
      "outputs": [
        {
          "output_type": "stream",
          "name": "stdout",
          "text": [
            "[['ad', 'bd', 'cd'], ['ae', 'be', 'ce'], ['af', 'bf', 'cf']]\n"
          ]
        }
      ]
    },
    {
      "cell_type": "code",
      "source": [
        "print([if i%2==0: i; else i+1; for i in range(4)])"
      ],
      "metadata": {
        "colab": {
          "base_uri": "https://localhost:8080/",
          "height": 130
        },
        "id": "Zide3SNITaLa",
        "outputId": "ec07f326-356f-4b6b-bfb4-07e2f540a01d"
      },
      "execution_count": 10,
      "outputs": [
        {
          "output_type": "error",
          "ename": "SyntaxError",
          "evalue": "ignored",
          "traceback": [
            "\u001b[0;36m  File \u001b[0;32m\"<ipython-input-10-fb3cd112c30b>\"\u001b[0;36m, line \u001b[0;32m1\u001b[0m\n\u001b[0;31m    print([if i%2==0: i; else i+1; for i in range(4)])\u001b[0m\n\u001b[0m            ^\u001b[0m\n\u001b[0;31mSyntaxError\u001b[0m\u001b[0;31m:\u001b[0m invalid syntax\n"
          ]
        }
      ]
    },
    {
      "cell_type": "code",
      "source": [
        ""
      ],
      "metadata": {
        "id": "W8dL477AT6GE"
      },
      "execution_count": null,
      "outputs": []
    }
  ]
}